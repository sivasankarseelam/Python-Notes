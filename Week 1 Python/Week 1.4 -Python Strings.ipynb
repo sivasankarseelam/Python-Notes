{
 "cells": [
  {
   "cell_type": "markdown",
   "id": "e5f8e0c4",
   "metadata": {},
   "source": [
    "### Strings are sequence of characters\n",
    "### In Python specially, strings are a sequence of Unicode characters\n",
    "\n",
    "    . Creating Strings\n",
    "    . Accessing Strings\n",
    "    . Adding Chars to String\n",
    "    . Editing Strings\n",
    "    . Deleting Strings\n",
    "    . Operation on Strings\n",
    "    . String Functions"
   ]
  },
  {
   "cell_type": "markdown",
   "id": "33501f67",
   "metadata": {},
   "source": [
    "### Creating Strings"
   ]
  },
  {
   "cell_type": "code",
   "execution_count": 2,
   "id": "12ea0302",
   "metadata": {},
   "outputs": [],
   "source": [
    "s = 'hello'\n",
    "s = \"hello\"\n",
    "# To handle multiple line string\n",
    "s = \"\"\"hello\"\"\"\n",
    "s = str('hello')"
   ]
  },
  {
   "cell_type": "markdown",
   "id": "9f16d1e8",
   "metadata": {},
   "source": [
    "### Note:\n",
    "    . why ('') and (\" \") need to create string. There are some scenarios where we need to handle that scenarios.\n",
    "    . For ex: 'It's raining outside' ---> It will through an error because Interpreter will not outside 'It' considered as string. In this Scenarios we use (\" \")."
   ]
  },
  {
   "cell_type": "code",
   "execution_count": null,
   "id": "ac872004",
   "metadata": {},
   "outputs": [],
   "source": []
  },
  {
   "cell_type": "markdown",
   "id": "618e0f4a",
   "metadata": {},
   "source": [
    "### Accessing Substrings from string"
   ]
  },
  {
   "cell_type": "markdown",
   "id": "01587670",
   "metadata": {},
   "source": [
    "#### Positive Indexing\n",
    "     . Positive Indexing starts from the 0 position.\n",
    "     . Index will help us to extact characters from the variable."
   ]
  },
  {
   "cell_type": "code",
   "execution_count": 7,
   "id": "ee362c12",
   "metadata": {},
   "outputs": [
    {
     "name": "stdout",
     "output_type": "stream",
     "text": [
      "h\n"
     ]
    }
   ],
   "source": [
    "s = 'hello world'   # used to access single character\n",
    "\n",
    "print(s[0])"
   ]
  },
  {
   "cell_type": "markdown",
   "id": "58afeaed",
   "metadata": {},
   "source": [
    "#### Negative Indexing\n",
    "\n",
    "    . It starts from -1 from the right side of the string."
   ]
  },
  {
   "cell_type": "code",
   "execution_count": 4,
   "id": "6acfc20f",
   "metadata": {},
   "outputs": [
    {
     "name": "stdout",
     "output_type": "stream",
     "text": [
      "d\n"
     ]
    }
   ],
   "source": [
    "s = 'hello world'\n",
    "\n",
    "print(s[-1])"
   ]
  },
  {
   "cell_type": "code",
   "execution_count": 6,
   "id": "36fd1dbd",
   "metadata": {},
   "outputs": [
    {
     "name": "stdout",
     "output_type": "stream",
     "text": [
      "r\n"
     ]
    }
   ],
   "source": [
    "print(s[-3])"
   ]
  },
  {
   "cell_type": "markdown",
   "id": "628a70e8",
   "metadata": {},
   "source": [
    "#### Slicing --> used to access substring"
   ]
  },
  {
   "cell_type": "code",
   "execution_count": 8,
   "id": "3e2afc11",
   "metadata": {},
   "outputs": [
    {
     "name": "stdout",
     "output_type": "stream",
     "text": [
      "ello \n"
     ]
    }
   ],
   "source": [
    "s = 'hello world'\n",
    "\n",
    "print(s[1:6])"
   ]
  },
  {
   "cell_type": "code",
   "execution_count": 9,
   "id": "67da72a5",
   "metadata": {},
   "outputs": [
    {
     "name": "stdout",
     "output_type": "stream",
     "text": [
      "\n"
     ]
    }
   ],
   "source": [
    "s = 'hello world'\n",
    "\n",
    "print(s[-1:-6])"
   ]
  },
  {
   "cell_type": "code",
   "execution_count": 10,
   "id": "80a08c3e",
   "metadata": {},
   "outputs": [
    {
     "name": "stdout",
     "output_type": "stream",
     "text": [
      "drw\n"
     ]
    }
   ],
   "source": [
    "s = 'hello world'\n",
    "\n",
    "print(s[-1:-6:-2])"
   ]
  },
  {
   "cell_type": "code",
   "execution_count": 11,
   "id": "dc0808f7",
   "metadata": {},
   "outputs": [
    {
     "name": "stdout",
     "output_type": "stream",
     "text": [
      "hello world\n"
     ]
    }
   ],
   "source": [
    "s = 'hello world'\n",
    "\n",
    "print(s[0:])"
   ]
  },
  {
   "cell_type": "code",
   "execution_count": 13,
   "id": "9fc419b3",
   "metadata": {},
   "outputs": [
    {
     "name": "stdout",
     "output_type": "stream",
     "text": [
      "hello worl\n"
     ]
    }
   ],
   "source": [
    "s = 'hello world'\n",
    "\n",
    "print(s[:-1])"
   ]
  },
  {
   "cell_type": "code",
   "execution_count": 16,
   "id": "2049ad53",
   "metadata": {},
   "outputs": [
    {
     "name": "stdout",
     "output_type": "stream",
     "text": [
      "hello \n"
     ]
    }
   ],
   "source": [
    "s = 'hello world'\n",
    "\n",
    "print(s[:6])"
   ]
  },
  {
   "cell_type": "markdown",
   "id": "54b937b7",
   "metadata": {},
   "source": [
    "### Reverse of a string"
   ]
  },
  {
   "cell_type": "code",
   "execution_count": 15,
   "id": "f2fe3bf4",
   "metadata": {},
   "outputs": [
    {
     "name": "stdout",
     "output_type": "stream",
     "text": [
      "dlrow olleh\n"
     ]
    }
   ],
   "source": [
    "s = 'hello world'   \n",
    "\n",
    "print(s[::-1])     "
   ]
  },
  {
   "cell_type": "markdown",
   "id": "fd285b2c",
   "metadata": {},
   "source": [
    "### Editing Strings and Deleting in Strings"
   ]
  },
  {
   "cell_type": "code",
   "execution_count": 18,
   "id": "df6894f2",
   "metadata": {},
   "outputs": [
    {
     "ename": "TypeError",
     "evalue": "'str' object does not support item assignment",
     "output_type": "error",
     "traceback": [
      "\u001b[1;31m---------------------------------------------------------------------------\u001b[0m",
      "\u001b[1;31mTypeError\u001b[0m                                 Traceback (most recent call last)",
      "Cell \u001b[1;32mIn[18], line 4\u001b[0m\n\u001b[0;32m      1\u001b[0m \u001b[38;5;66;03m# If I want to Edit/replace/change 'H' in place of 'h'(hello)\u001b[39;00m\n\u001b[0;32m      3\u001b[0m s \u001b[38;5;241m=\u001b[39m \u001b[38;5;124m'\u001b[39m\u001b[38;5;124mhello world\u001b[39m\u001b[38;5;124m'\u001b[39m\n\u001b[1;32m----> 4\u001b[0m s[\u001b[38;5;241m0\u001b[39m] \u001b[38;5;241m=\u001b[39m \u001b[38;5;124m'\u001b[39m\u001b[38;5;124mH\u001b[39m\u001b[38;5;124m'\u001b[39m\n",
      "\u001b[1;31mTypeError\u001b[0m: 'str' object does not support item assignment"
     ]
    }
   ],
   "source": [
    "# If I want to Edit/replace/change 'H' in place of 'h'(hello)\n",
    "\n",
    "s = 'hello world'\n",
    "s[0] = 'H'"
   ]
  },
  {
   "cell_type": "markdown",
   "id": "be163a13",
   "metadata": {},
   "source": [
    "#### Note:\n",
    "\n",
    "    . String is a immutable ---> It means once we creted a string, we can't edit/change "
   ]
  },
  {
   "cell_type": "markdown",
   "id": "0318205b",
   "metadata": {},
   "source": [
    "### Deleting String\n",
    "     . In python there is a operator called \"del\" ---> which means 'delete'"
   ]
  },
  {
   "cell_type": "code",
   "execution_count": 20,
   "id": "c77920f4",
   "metadata": {},
   "outputs": [
    {
     "ename": "NameError",
     "evalue": "name 's' is not defined",
     "output_type": "error",
     "traceback": [
      "\u001b[1;31m---------------------------------------------------------------------------\u001b[0m",
      "\u001b[1;31mNameError\u001b[0m                                 Traceback (most recent call last)",
      "Cell \u001b[1;32mIn[20], line 5\u001b[0m\n\u001b[0;32m      1\u001b[0m s \u001b[38;5;241m=\u001b[39m \u001b[38;5;124m'\u001b[39m\u001b[38;5;124mhello world\u001b[39m\u001b[38;5;124m'\u001b[39m\n\u001b[0;32m      3\u001b[0m \u001b[38;5;28;01mdel\u001b[39;00m s\n\u001b[1;32m----> 5\u001b[0m \u001b[38;5;28mprint\u001b[39m(\u001b[43ms\u001b[49m)\n",
      "\u001b[1;31mNameError\u001b[0m: name 's' is not defined"
     ]
    }
   ],
   "source": [
    "s = 'hello world'\n",
    "\n",
    "del s\n",
    "\n",
    "print(s)"
   ]
  },
  {
   "cell_type": "markdown",
   "id": "a82f973e",
   "metadata": {},
   "source": [
    "#### Note:\n",
    "\n",
    ". It through an error because it has already deleted, that's why it is not defined."
   ]
  },
  {
   "cell_type": "markdown",
   "id": "ea942763",
   "metadata": {},
   "source": [
    "## Very Important (Deletion of some portion of the string can't possible)"
   ]
  },
  {
   "cell_type": "code",
   "execution_count": 21,
   "id": "667988ae",
   "metadata": {},
   "outputs": [
    {
     "ename": "TypeError",
     "evalue": "'str' object does not support item deletion",
     "output_type": "error",
     "traceback": [
      "\u001b[1;31m---------------------------------------------------------------------------\u001b[0m",
      "\u001b[1;31mTypeError\u001b[0m                                 Traceback (most recent call last)",
      "Cell \u001b[1;32mIn[21], line 3\u001b[0m\n\u001b[0;32m      1\u001b[0m s \u001b[38;5;241m=\u001b[39m \u001b[38;5;124m'\u001b[39m\u001b[38;5;124mhello world\u001b[39m\u001b[38;5;124m'\u001b[39m\n\u001b[1;32m----> 3\u001b[0m \u001b[38;5;28;01mdel\u001b[39;00m s[\u001b[38;5;241m-\u001b[39m\u001b[38;5;241m1\u001b[39m:\u001b[38;5;241m-\u001b[39m\u001b[38;5;241m5\u001b[39m:\u001b[38;5;241m2\u001b[39m]\n\u001b[0;32m      5\u001b[0m \u001b[38;5;28mprint\u001b[39m(s)\n",
      "\u001b[1;31mTypeError\u001b[0m: 'str' object does not support item deletion"
     ]
    }
   ],
   "source": [
    "s = 'hello world'\n",
    "\n",
    "del s[-1:-5:2]\n",
    "\n",
    "print(s)"
   ]
  },
  {
   "cell_type": "markdown",
   "id": "aeeed2f0",
   "metadata": {},
   "source": [
    "### NOTE:\n",
    "\n",
    "    . What we have done here, modifying the string indirectly --> it means by using \"slicing\" concept we tried to delete          some portion of the string but,it through an error because \"String\" is an \"immutable\".\n",
    "    . Even when we add/delete some portion of the string --> It means \"Modifying\"\n",
    "    . All in all, we can't delete some portion of the string. But, We can delete \"string completely\""
   ]
  },
  {
   "cell_type": "markdown",
   "id": "a33060e8",
   "metadata": {},
   "source": [
    "### Operation on String\n",
    "\n",
    "    . Arthematic Operations\n",
    "    . Relational Operations\n",
    "    . Logical Operations\n",
    "    . Loops on String\n",
    "    . Membership Operations"
   ]
  },
  {
   "cell_type": "markdown",
   "id": "d4b52c85",
   "metadata": {},
   "source": [
    "### Arthematic Operations on strings \n",
    "\n",
    "    . '+' (Addition) --> Concatenate\n",
    "    . '*' (Multiplication) --> String repeated\n",
    "### Note:\n",
    "\n",
    "    . Only these 2 operators will applicable on strings"
   ]
  },
  {
   "cell_type": "code",
   "execution_count": 23,
   "id": "3386261e",
   "metadata": {},
   "outputs": [
    {
     "data": {
      "text/plain": [
       "'hello world'"
      ]
     },
     "execution_count": 23,
     "metadata": {},
     "output_type": "execute_result"
    }
   ],
   "source": [
    "\"hello\" + \" \" + \"world\"   "
   ]
  },
  {
   "cell_type": "code",
   "execution_count": 26,
   "id": "10d672d4",
   "metadata": {},
   "outputs": [
    {
     "data": {
      "text/plain": [
       "'hellohellohellohellohello'"
      ]
     },
     "execution_count": 26,
     "metadata": {},
     "output_type": "execute_result"
    }
   ],
   "source": [
    "\"hello\" * 5"
   ]
  },
  {
   "cell_type": "code",
   "execution_count": 27,
   "id": "d1929975",
   "metadata": {},
   "outputs": [
    {
     "data": {
      "text/plain": [
       "'*****'"
      ]
     },
     "execution_count": 27,
     "metadata": {},
     "output_type": "execute_result"
    }
   ],
   "source": [
    "\"*\"*5     #\"any special character\""
   ]
  },
  {
   "cell_type": "markdown",
   "id": "cbf7efec",
   "metadata": {},
   "source": [
    "### Relational Operations \n",
    "\n",
    "    . All operations applicable on strings"
   ]
  },
  {
   "cell_type": "code",
   "execution_count": 28,
   "id": "b6b7059b",
   "metadata": {},
   "outputs": [
    {
     "data": {
      "text/plain": [
       "True"
      ]
     },
     "execution_count": 28,
     "metadata": {},
     "output_type": "execute_result"
    }
   ],
   "source": [
    "\"pune\" > \"mumbai\""
   ]
  },
  {
   "cell_type": "code",
   "execution_count": 30,
   "id": "828be550",
   "metadata": {},
   "outputs": [
    {
     "data": {
      "text/plain": [
       "False"
      ]
     },
     "execution_count": 30,
     "metadata": {},
     "output_type": "execute_result"
    }
   ],
   "source": [
    "\"Pune\" > \"pune\""
   ]
  },
  {
   "cell_type": "markdown",
   "id": "3846c8b6",
   "metadata": {},
   "source": [
    "### Note:\n",
    "\n",
    "    . Basically, the output is either True/False for Relational Operators.\n",
    "    . The output is resulted based on \"ASCII\" Values of the string characters or \"lexiographically\""
   ]
  },
  {
   "cell_type": "markdown",
   "id": "eccad830",
   "metadata": {},
   "source": [
    "### Logical Operations\n",
    "    --> The following points applicable when the Logical operators is applied on \"String\"\n",
    "    . Actually, if the string is filled with \"characters\" ---> It is considered as \"True\n",
    "    . On the other hand, If the string is \" \"(space: not filled with any chracters) ----> It is \"False\""
   ]
  },
  {
   "cell_type": "code",
   "execution_count": 31,
   "id": "6e347a68",
   "metadata": {},
   "outputs": [
    {
     "data": {
      "text/plain": [
       "'hello'"
      ]
     },
     "execution_count": 31,
     "metadata": {},
     "output_type": "execute_result"
    }
   ],
   "source": [
    "\" \" and \"hello\""
   ]
  },
  {
   "cell_type": "code",
   "execution_count": 32,
   "id": "186542fc",
   "metadata": {},
   "outputs": [
    {
     "data": {
      "text/plain": [
       "'world'"
      ]
     },
     "execution_count": 32,
     "metadata": {},
     "output_type": "execute_result"
    }
   ],
   "source": [
    "\"hello\" and \"world\"   # Here, both are true, why world is the output.\n",
    "                      # first character is \"True\" and operator is checking other string whether it is \"True or False\".\n",
    "                      # That's why last string will be print."
   ]
  },
  {
   "cell_type": "code",
   "execution_count": 33,
   "id": "1a7b3474",
   "metadata": {},
   "outputs": [
    {
     "data": {
      "text/plain": [
       "'hello'"
      ]
     },
     "execution_count": 33,
     "metadata": {},
     "output_type": "execute_result"
    }
   ],
   "source": [
    "\"hello\" or \"world\""
   ]
  },
  {
   "cell_type": "code",
   "execution_count": 34,
   "id": "2b64021e",
   "metadata": {},
   "outputs": [
    {
     "data": {
      "text/plain": [
       "'hello'"
      ]
     },
     "execution_count": 34,
     "metadata": {},
     "output_type": "execute_result"
    }
   ],
   "source": [
    "\"hello\" or \" \""
   ]
  },
  {
   "cell_type": "code",
   "execution_count": 35,
   "id": "d612b929",
   "metadata": {},
   "outputs": [
    {
     "data": {
      "text/plain": [
       "'hello'"
      ]
     },
     "execution_count": 35,
     "metadata": {},
     "output_type": "execute_result"
    }
   ],
   "source": [
    "\" \" and \"hello\""
   ]
  },
  {
   "cell_type": "code",
   "execution_count": 36,
   "id": "def94a84",
   "metadata": {},
   "outputs": [
    {
     "data": {
      "text/plain": [
       "' '"
      ]
     },
     "execution_count": 36,
     "metadata": {},
     "output_type": "execute_result"
    }
   ],
   "source": [
    "\" \" or \" \""
   ]
  },
  {
   "cell_type": "code",
   "execution_count": 1,
   "id": "ec12fe6d",
   "metadata": {},
   "outputs": [
    {
     "data": {
      "text/plain": [
       "False"
      ]
     },
     "execution_count": 1,
     "metadata": {},
     "output_type": "execute_result"
    }
   ],
   "source": [
    "not \" \""
   ]
  },
  {
   "cell_type": "markdown",
   "id": "9865cc45",
   "metadata": {},
   "source": [
    "### Loops on string\n",
    "\n",
    "    . We can apply for loop on strings"
   ]
  },
  {
   "cell_type": "code",
   "execution_count": 39,
   "id": "25174217",
   "metadata": {},
   "outputs": [
    {
     "name": "stdout",
     "output_type": "stream",
     "text": [
      "d\n",
      "e\n",
      "l\n",
      "h\n",
      "i\n"
     ]
    }
   ],
   "source": [
    "for i in 'delhi':\n",
    "    print(i)"
   ]
  },
  {
   "cell_type": "code",
   "execution_count": 41,
   "id": "22af1264",
   "metadata": {},
   "outputs": [
    {
     "name": "stdout",
     "output_type": "stream",
     "text": [
      "pune\n",
      "pune\n",
      "pune\n",
      "pune\n",
      "pune\n"
     ]
    }
   ],
   "source": [
    "for i in 'delhi':       # Here we are not printing 'i', looping is running 5 times.\n",
    "    print(\"pune\") "
   ]
  },
  {
   "cell_type": "markdown",
   "id": "f496163e",
   "metadata": {},
   "source": [
    "### Membership Operation on string\n",
    "\n",
    "    . in\n",
    "    . not in\n",
    "    . output is : True/False"
   ]
  },
  {
   "cell_type": "code",
   "execution_count": 43,
   "id": "ed576f31",
   "metadata": {},
   "outputs": [
    {
     "data": {
      "text/plain": [
       "False"
      ]
     },
     "execution_count": 43,
     "metadata": {},
     "output_type": "execute_result"
    }
   ],
   "source": [
    "'D' in \"delhi\"    # Case sensitive"
   ]
  },
  {
   "cell_type": "code",
   "execution_count": 44,
   "id": "73a445ed",
   "metadata": {},
   "outputs": [
    {
     "data": {
      "text/plain": [
       "True"
      ]
     },
     "execution_count": 44,
     "metadata": {},
     "output_type": "execute_result"
    }
   ],
   "source": [
    "\"d\" in \"delhi\""
   ]
  },
  {
   "cell_type": "code",
   "execution_count": 45,
   "id": "261ddc02",
   "metadata": {},
   "outputs": [
    {
     "data": {
      "text/plain": [
       "False"
      ]
     },
     "execution_count": 45,
     "metadata": {},
     "output_type": "execute_result"
    }
   ],
   "source": [
    "\"d\" in \"Delhi\""
   ]
  },
  {
   "cell_type": "markdown",
   "id": "68d5f9f1",
   "metadata": {},
   "source": [
    "### String Functions\n",
    "\n",
    "    - I divided into string functions into 2 parts:\n",
    "\n",
    "    1. Common functions\n",
    "    2. String Functions\n",
    "\n",
    "    1. Common Functions: These functions will applicable on all data types such as:\n",
    "    - List\n",
    "    - String\n",
    "    - Tuple\n",
    "    - Sets\n",
    "    - Dictionaries\n",
    "    1. Common Functions are:\n",
    "    . len()\n",
    "    . min()\n",
    "    . max()\n",
    "    . sorted()\n",
    "\n",
    "    2. String Functions are only applicable on strings, such as:\n",
    "    . capitalize()/title()/lower()/upper()/swapcase()\n",
    "    . count()/find()/index()\n",
    "    . endswith()/startswith()\n",
    "    . format()\n",
    "    . isalnum()/isaplha()/isdigit()/isidentifier()\n",
    "    . split()/join()\n",
    "    . replace()\n",
    "    . strip()\n"
   ]
  },
  {
   "cell_type": "code",
   "execution_count": 46,
   "id": "3a4cbfc0",
   "metadata": {},
   "outputs": [
    {
     "data": {
      "text/plain": [
       "False"
      ]
     },
     "execution_count": 46,
     "metadata": {},
     "output_type": "execute_result"
    }
   ],
   "source": [
    "'siva 123'.isalnum()"
   ]
  },
  {
   "cell_type": "code",
   "execution_count": 47,
   "id": "48974b32",
   "metadata": {},
   "outputs": [
    {
     "data": {
      "text/plain": [
       "True"
      ]
     },
     "execution_count": 47,
     "metadata": {},
     "output_type": "execute_result"
    }
   ],
   "source": [
    "'siva123'.isalnum()"
   ]
  },
  {
   "cell_type": "markdown",
   "id": "c6a1b638",
   "metadata": {},
   "source": [
    "### Tasks"
   ]
  },
  {
   "cell_type": "code",
   "execution_count": 48,
   "id": "d1cc35a0",
   "metadata": {},
   "outputs": [
    {
     "name": "stdout",
     "output_type": "stream",
     "text": [
      "enter any string name:siva sankar\n",
      "11\n"
     ]
    }
   ],
   "source": [
    "# Find the length of a given string without using len() function\n",
    "\n",
    "s = input('enter any string name:')\n",
    "\n",
    "count = 0\n",
    "for i in s:\n",
    "    count = count + 1\n",
    "print(count)"
   ]
  },
  {
   "cell_type": "code",
   "execution_count": 50,
   "id": "4614645a",
   "metadata": {},
   "outputs": [
    {
     "name": "stdout",
     "output_type": "stream",
     "text": [
      "enter emailid:sivaseelam465@gmail.com\n",
      "sivaseelam465\n"
     ]
    }
   ],
   "source": [
    "# extract user name from given email\n",
    "# for Eg: given email is sivaseelam465@gmail.com\n",
    "# output should be 'sivaseelam465'\n",
    "\n",
    "s = input('enter emailid:')\n",
    "\n",
    "n_str = s.split('@')\n",
    "\n",
    "print(n_str[0])\n"
   ]
  },
  {
   "cell_type": "code",
   "execution_count": 52,
   "id": "b3fcfcdf",
   "metadata": {},
   "outputs": [
    {
     "name": "stdout",
     "output_type": "stream",
     "text": [
      "enter emailid:sivaseelam465@gmail.com\n",
      "sivaseelam465\n"
     ]
    }
   ],
   "source": [
    "# extract user name from given email\n",
    "# for Eg: given email is sivaseelam465@gmail.com\n",
    "# output should be 'sivaseelam465'\n",
    "\n",
    "s = input('enter emailid:')\n",
    "pos = s.index('@')\n",
    "\n",
    "print(s[0:pos])\n",
    "\n"
   ]
  },
  {
   "cell_type": "code",
   "execution_count": 56,
   "id": "18f64d9d",
   "metadata": {},
   "outputs": [
    {
     "name": "stdout",
     "output_type": "stream",
     "text": [
      "enter any string name: hi how are you\n",
      "what is your searching term: h\n",
      "2\n"
     ]
    }
   ],
   "source": [
    "# count the frequency of particular character in a given string\n",
    "# Eg: \"hello how are you\" is the string, the frequency of 'h' in this string is 2\n",
    "\n",
    "s = input('enter any string name: ')\n",
    "term = input('what is your searching term: ')\n",
    "\n",
    "counter = s.count('o')\n",
    "\n",
    "print(counter)"
   ]
  },
  {
   "cell_type": "code",
   "execution_count": 57,
   "id": "08f0edfa",
   "metadata": {},
   "outputs": [
    {
     "name": "stdout",
     "output_type": "stream",
     "text": [
      "enter any string name: sivasankarseelam\n",
      "what is your searching term: s\n",
      "frequency off the word:  3\n"
     ]
    }
   ],
   "source": [
    "# count the frequency of particular character in a given string\n",
    "# Eg: \"hello how are you\" is the string, the frequency of 'h' in this string is 2\n",
    "\n",
    "s = input('enter any string name: ')\n",
    "term = input('what is your searching term: ')\n",
    "\n",
    "count = 0\n",
    "for i in s:\n",
    "    if i == term:\n",
    "        count += 1\n",
    "print('frequency off the word: ', count)"
   ]
  },
  {
   "cell_type": "code",
   "execution_count": 58,
   "id": "6945bb5b",
   "metadata": {},
   "outputs": [
    {
     "name": "stdout",
     "output_type": "stream",
     "text": [
      "enter any string name: nitish\n",
      "what is your searching term: i\n",
      "ntsh\n"
     ]
    }
   ],
   "source": [
    "# write a program which can remove a particular character from string\n",
    "\n",
    "s = input('enter any string name: ')\n",
    "term = input('what is your searching term: ')\n",
    "\n",
    "result = ''\n",
    "for i in s:\n",
    "    if i != term:\n",
    "        result = result + i\n",
    "print(result)"
   ]
  },
  {
   "cell_type": "code",
   "execution_count": 62,
   "id": "cdc1bafd",
   "metadata": {},
   "outputs": [
    {
     "name": "stdout",
     "output_type": "stream",
     "text": [
      "enter any string name: racecar\n",
      "given string is a palindrome\n"
     ]
    }
   ],
   "source": [
    "# write an program to check whether string is palindrome or not\n",
    "\n",
    "s = input('enter any string name: ')\n",
    "\n",
    "r = s[::-1]\n",
    "\n",
    "if s == r:\n",
    "    print('given string is a palindrome')\n",
    "else:\n",
    "    print('given string is not palindrome')"
   ]
  },
  {
   "cell_type": "code",
   "execution_count": 64,
   "id": "3166f099",
   "metadata": {},
   "outputs": [
    {
     "name": "stdout",
     "output_type": "stream",
     "text": [
      "enter any string name: hi how are you\n",
      "4\n"
     ]
    }
   ],
   "source": [
    "# write a program to count how many words in a string without using split()\n",
    "\n",
    "s = input('enter any string name: ')\n",
    "\n",
    "count = 1\n",
    "for i in s:\n",
    "    if i == \" \":\n",
    "        count = count + 1\n",
    "print(count)"
   ]
  },
  {
   "cell_type": "code",
   "execution_count": 3,
   "id": "f8522fc6",
   "metadata": {},
   "outputs": [
    {
     "name": "stdout",
     "output_type": "stream",
     "text": [
      "enter any string name: hi how are you\n",
      "4\n"
     ]
    }
   ],
   "source": [
    "# write a program to count how many words in a string with using split()\n",
    "\n",
    "s = input('enter any string name: ')\n",
    "\n",
    "res = s.split()\n",
    "\n",
    "print(len(res))"
   ]
  },
  {
   "cell_type": "code",
   "execution_count": null,
   "id": "724ac5fb",
   "metadata": {},
   "outputs": [],
   "source": []
  }
 ],
 "metadata": {
  "kernelspec": {
   "display_name": "Python 3 (ipykernel)",
   "language": "python",
   "name": "python3"
  },
  "language_info": {
   "codemirror_mode": {
    "name": "ipython",
    "version": 3
   },
   "file_extension": ".py",
   "mimetype": "text/x-python",
   "name": "python",
   "nbconvert_exporter": "python",
   "pygments_lexer": "ipython3",
   "version": "3.10.9"
  }
 },
 "nbformat": 4,
 "nbformat_minor": 5
}
