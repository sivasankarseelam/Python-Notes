{
 "cells": [
  {
   "cell_type": "markdown",
   "id": "bbbb592f",
   "metadata": {},
   "source": [
    "## Operators in python\n",
    "    - Arthematic Operator\n",
    "    - Relational Operator/Comparision Operators\n",
    "    - Logical Operator\n",
    "    - Bitwise Operator\n",
    "    - Assignment Operator\n",
    "    - Membership Operator"
   ]
  },
  {
   "cell_type": "code",
   "execution_count": 3,
   "id": "441f3bfc",
   "metadata": {},
   "outputs": [
    {
     "name": "stdout",
     "output_type": "stream",
     "text": [
      "11\n",
      "-1\n",
      "30\n",
      "2.5\n",
      "2\n",
      "1\n",
      "25\n"
     ]
    }
   ],
   "source": [
    "# Arthematic Operators\n",
    "\n",
    "print(5+6)    # Addition\n",
    "\n",
    "print(5-6)    # Subtraction\n",
    "\n",
    "print(5*6)    # Multiplication\n",
    "\n",
    "print(5/2)    # Quoficient  (ex: 2.5)\n",
    "\n",
    "print(5//2)   # Integer Quoficient (ex: 2)\n",
    "\n",
    "print(5%2)    # remainder (ex: 1)\n",
    "\n",
    "print(5**2)   # power 6"
   ]
  },
  {
   "cell_type": "code",
   "execution_count": 4,
   "id": "8adb3eb9",
   "metadata": {},
   "outputs": [
    {
     "name": "stdout",
     "output_type": "stream",
     "text": [
      "False\n",
      "True\n",
      "True\n",
      "False\n",
      "False\n",
      "True\n"
     ]
    }
   ],
   "source": [
    "# Relational Operators     # Output is either True or False\n",
    "\n",
    "print(4>5)\n",
    "\n",
    "print(4<5)\n",
    "\n",
    "print(4<=5)\n",
    "\n",
    "print(4>=5)\n",
    "\n",
    "print(4==5)\n",
    "\n",
    "print(4!=5)"
   ]
  },
  {
   "cell_type": "code",
   "execution_count": 17,
   "id": "6f93fd3a",
   "metadata": {},
   "outputs": [
    {
     "name": "stdout",
     "output_type": "stream",
     "text": [
      "0\n",
      "1\n",
      "False\n"
     ]
    }
   ],
   "source": [
    "# Logical Operators (There are 3 logical operators: and, or, not)\n",
    "\n",
    "print(1 and 0)     # 'and' returns 1 if both are True(1) otherwise False (0)\n",
    "\n",
    "print(1 or 0)      # 'or' returns 0 if both are False(0) otherwise True(1)\n",
    "\n",
    "print(not 1)\n"
   ]
  },
  {
   "cell_type": "code",
   "execution_count": 3,
   "id": "acd01961",
   "metadata": {},
   "outputs": [
    {
     "name": "stdout",
     "output_type": "stream",
     "text": [
      "2\n",
      "3\n",
      "1\n",
      "-4\n",
      "1\n"
     ]
    }
   ],
   "source": [
    "# Bitwise operator  # Not Important\n",
    "\n",
    "# Bitwise and           # 2--> '010' is the binary representation of 2 & '110'--> is the binary representation of 3, After applying the & Bitwise operator on these two we will get 010--> which is 2\n",
    "print(2 & 3)\n",
    "\n",
    "# Bitewise or          # Similarly above case, | operator\n",
    "print(2 | 3)\n",
    "\n",
    "# Bitwise xor          # xor operator is fetchs 0 is the output when both are same, otherwise 1 as the output \n",
    "print(2 ^ 3)           # In this case, 2 and 3 are different that why 1\n",
    "\n",
    "# Bitwise not          # 110 --> is the bitwise number for 3,not 3 means 1 becomes 0, 0 becomes 1 finally 001--> is the -4\n",
    "print(~3)\n",
    "\n",
    "# Bitwise left operator\n",
    "print(4 >> 2)"
   ]
  },
  {
   "cell_type": "code",
   "execution_count": 6,
   "id": "3a62dbe5",
   "metadata": {},
   "outputs": [
    {
     "name": "stdout",
     "output_type": "stream",
     "text": [
      "2\t4\n"
     ]
    }
   ],
   "source": [
    "# Assignment operator\n",
    "# = is the assignment operator\n",
    "\n",
    "a = 2 \n",
    "print(a,end='\\t')\n",
    "\n",
    "# we can use '=' Assignment operator with other operators\n",
    "\n",
    "a = 2\n",
    "a += 2   # a = a+2\n",
    "print(a)"
   ]
  },
  {
   "cell_type": "markdown",
   "id": "1154f0dc",
   "metadata": {},
   "source": [
    "### Membership Operators\n",
    "    -->There are 2 types of Membership Operators.\n",
    "       1. in   2. not in\n",
    "    --> Basically in/not in Operator will check whether given parameter exist in other or not, If exist it will print True otherwise False\n",
    "##### Note:\n",
    "    1. in/not in Operator will not only work on 'strings', on any data type and data structure like Tuple, sets,Lists,Dictionaries it works\n"
   ]
  },
  {
   "cell_type": "code",
   "execution_count": 9,
   "id": "633eb16d",
   "metadata": {},
   "outputs": [
    {
     "name": "stdout",
     "output_type": "stream",
     "text": [
      "True\n",
      "False\n",
      "True\n"
     ]
    }
   ],
   "source": [
    "#Mathematical Operator gives an output either True/False\n",
    "# For EX:\n",
    "print('D' in 'Delhi')       # in 'Delhi' word 'D' existed or not--> check\n",
    "\n",
    "print('D' not in 'Delhi')\n",
    "\n",
    "print(2 in [5,3,2,6,7,8,9,0])"
   ]
  },
  {
   "cell_type": "markdown",
   "id": "193c7d41",
   "metadata": {},
   "source": [
    "#### Program- Find sum of 3 digit number entered by a user"
   ]
  },
  {
   "cell_type": "code",
   "execution_count": 14,
   "id": "acc6b776",
   "metadata": {},
   "outputs": [
    {
     "name": "stdout",
     "output_type": "stream",
     "text": [
      "Enter any 3 digit number:345\n",
      "12\n"
     ]
    }
   ],
   "source": [
    "# Input given by user\n",
    "a = int(input('Enter any 3 digit number:'))\n",
    "# 346%10\n",
    "b = a%10\n",
    "a = a//10\n",
    "# 34%10\n",
    "c = a%10\n",
    "a = a//10\n",
    "\n",
    "x = (a+b+c)\n",
    "print(x)\n"
   ]
  },
  {
   "cell_type": "markdown",
   "id": "90eefe3b",
   "metadata": {},
   "source": [
    "## If-else in Python"
   ]
  },
  {
   "cell_type": "code",
   "execution_count": 2,
   "id": "b85c613d",
   "metadata": {},
   "outputs": [
    {
     "name": "stdout",
     "output_type": "stream",
     "text": [
      "Enetr your emailsivaunthsr@gmail.com\n",
      "Enter your password1256\n",
      "You entered wrong password\n",
      "Enter password again1234\n",
      "Welcome, Finally!\n"
     ]
    }
   ],
   "source": [
    "# login program and Indentation\n",
    "# email:sivaunthsr@gmail.com\n",
    "# password: 1234\n",
    "email = input('Enetr your email')\n",
    "password = input('Enter your password')\n",
    "\n",
    "if email == 'sivaunthsr@gmail.com' and password == '1234':\n",
    "    print('Welcome to the page')\n",
    "elif email == 'sivaunthsr@gmail.com' and password != '1234':\n",
    "    print('You entered wrong password')\n",
    "    password = input('Enter password again')\n",
    "    if password == '1234':\n",
    "        print('Welcome, Finally!')\n",
    "    else:\n",
    "        print('Please login afetr 5 minutes')\n",
    "else:\n",
    "    print('You entered wrong crendentials')"
   ]
  },
  {
   "cell_type": "code",
   "execution_count": 1,
   "id": "5e4dfcca",
   "metadata": {},
   "outputs": [],
   "source": [
    "# if-else programs\n",
    "\n",
    "# Find the min of a 3 given numbers\n",
    "# Menu Driven "
   ]
  },
  {
   "cell_type": "code",
   "execution_count": null,
   "id": "f4c56497",
   "metadata": {},
   "outputs": [],
   "source": [
    "# Find the min of a 3 given numbers\n",
    "a = int(input('Enter first num:'))\n",
    "b = int(input('Enter Second num:'))\n",
    "c = int(input('Enter Third num:'))\n",
    "\n",
    "if a<b and a<c:\n",
    "    print('smallest num:',a)\n",
    "elif b<c:\n",
    "    print('smallest num:',)\n",
    "    "
   ]
  },
  {
   "cell_type": "code",
   "execution_count": 1,
   "id": "36912101",
   "metadata": {},
   "outputs": [
    {
     "name": "stdout",
     "output_type": "stream",
     "text": [
      "Enter first num:54\n",
      "Enter second num:100\n",
      "Enter third num:42\n",
      "Max num: 100\n"
     ]
    }
   ],
   "source": [
    "# Find the max of a 3 numbers\n",
    "a = int(input('Enter first num:'))\n",
    "b = int(input('Enter second num:'))\n",
    "c = int(input('Enter third num:'))\n",
    "\n",
    "if a>b and a>c:\n",
    "    print('Max num:', a)\n",
    "elif b>c:\n",
    "    print('Max num:', b)\n",
    "else:\n",
    "    print('Max num:',c)"
   ]
  },
  {
   "cell_type": "code",
   "execution_count": 2,
   "id": "f68b2576",
   "metadata": {},
   "outputs": [
    {
     "name": "stdout",
     "output_type": "stream",
     "text": [
      "8\n"
     ]
    }
   ],
   "source": [
    "a = 10\n",
    "b = 24\n",
    "c = a & b\n",
    "print(c)"
   ]
  },
  {
   "cell_type": "code",
   "execution_count": null,
   "id": "266a71fd",
   "metadata": {},
   "outputs": [],
   "source": []
  },
  {
   "cell_type": "code",
   "execution_count": null,
   "id": "daaadb2b",
   "metadata": {},
   "outputs": [],
   "source": []
  },
  {
   "cell_type": "code",
   "execution_count": null,
   "id": "011d8669",
   "metadata": {},
   "outputs": [],
   "source": []
  }
 ],
 "metadata": {
  "kernelspec": {
   "display_name": "Python 3 (ipykernel)",
   "language": "python",
   "name": "python3"
  },
  "language_info": {
   "codemirror_mode": {
    "name": "ipython",
    "version": 3
   },
   "file_extension": ".py",
   "mimetype": "text/x-python",
   "name": "python",
   "nbconvert_exporter": "python",
   "pygments_lexer": "ipython3",
   "version": "3.10.9"
  }
 },
 "nbformat": 4,
 "nbformat_minor": 5
}
