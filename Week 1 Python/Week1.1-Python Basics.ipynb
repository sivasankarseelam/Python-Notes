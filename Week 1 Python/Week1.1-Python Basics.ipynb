{
 "cells": [
  {
   "cell_type": "markdown",
   "id": "c806770b",
   "metadata": {},
   "source": [
    "## Contents:\n",
    "\n",
    "1. Print() functions\n",
    "2. Data types\n",
    "3. Variables\n",
    "4. Keywords.\n",
    "5. Identifiers\n",
    "6. Input() function\n",
    "7. Type converstion\n",
    "8. Literals\n",
    "9. Mathematical operations on Boolean data types.\n",
    "10. Application on None keyword."
   ]
  },
  {
   "cell_type": "markdown",
   "id": "68dd4a43",
   "metadata": {},
   "source": [
    "## 1. Print() function"
   ]
  },
  {
   "cell_type": "code",
   "execution_count": null,
   "id": "3bab5441",
   "metadata": {},
   "outputs": [],
   "source": [
    "# pyhton is case sensitive language\n",
    "print('Hello world')\n",
    "Print() --> # is not correct print function as \"P\" is a capitial letter"
   ]
  },
  {
   "cell_type": "code",
   "execution_count": 6,
   "id": "909cbefe",
   "metadata": {},
   "outputs": [],
   "source": [
    "# In print() function, whatever we write it will display on the screen, especially string should be quotations if same to be displayed on the scree."
   ]
  },
  {
   "cell_type": "code",
   "execution_count": null,
   "id": "b4e66a62",
   "metadata": {},
   "outputs": [],
   "source": [
    "print(7)"
   ]
  },
  {
   "cell_type": "code",
   "execution_count": 2,
   "id": "e2844da9",
   "metadata": {},
   "outputs": [
    {
     "name": "stdout",
     "output_type": "stream",
     "text": [
      "7.7\n"
     ]
    }
   ],
   "source": [
    "print(7.7)"
   ]
  },
  {
   "cell_type": "code",
   "execution_count": 3,
   "id": "66a6db60",
   "metadata": {},
   "outputs": [
    {
     "name": "stdout",
     "output_type": "stream",
     "text": [
      "Siva Sankar\n"
     ]
    }
   ],
   "source": [
    "print(\"Siva Sankar\")"
   ]
  },
  {
   "cell_type": "code",
   "execution_count": 4,
   "id": "c26897f7",
   "metadata": {},
   "outputs": [
    {
     "ename": "SyntaxError",
     "evalue": "invalid syntax. Perhaps you forgot a comma? (2511521617.py, line 1)",
     "output_type": "error",
     "traceback": [
      "\u001b[1;36m  Cell \u001b[1;32mIn[4], line 1\u001b[1;36m\u001b[0m\n\u001b[1;33m    print(siva sankar)\u001b[0m\n\u001b[1;37m          ^\u001b[0m\n\u001b[1;31mSyntaxError\u001b[0m\u001b[1;31m:\u001b[0m invalid syntax. Perhaps you forgot a comma?\n"
     ]
    }
   ],
   "source": [
    "print(siva sankar)"
   ]
  },
  {
   "cell_type": "code",
   "execution_count": 5,
   "id": "4a17c513",
   "metadata": {},
   "outputs": [
    {
     "name": "stdout",
     "output_type": "stream",
     "text": [
      "True\n"
     ]
    }
   ],
   "source": [
    "print(True)"
   ]
  },
  {
   "cell_type": "markdown",
   "id": "91042c32",
   "metadata": {},
   "source": [
    "## 2. Data types\n",
    "    . Integer\n",
    "    . Float\n",
    "    . Strings\n",
    "    . Boolean\n",
    "    . Complex numbers\n",
    "    . List\n",
    "    . Tuple\n",
    "    . Sets\n",
    "    . Dictionaries"
   ]
  },
  {
   "cell_type": "markdown",
   "id": "90bdeafc",
   "metadata": {},
   "source": [
    "## 3.Variables\n",
    "    . Variables are the containers in which values will be stored\n",
    "### Concepts in Variables:\n",
    "       1. Dynamic typing vs static typing\n",
    "       2. Dynamic Binding vs Static Binding\n",
    " ### Dynamic typing:\n",
    "    --> It is something that we can't defined a variable declaration in python whereas, In other language we need to declare initially but, In python we have flexiblity that we use variable without declaration of its respective data type at ay where in program.\n",
    "     . EX: Python --> Dynamic typing follows, Other Languages c, c++, Java follows --> Static Typing\n",
    "### Dynamic Binding\n",
    "    --> In the same program , we can use same variable to store different data types. However, In other programs, because of variable declaration initially we don't use the same variable for storing other data types.\n",
    "    . EX: a=5, print (a)\n",
    "    a= 'siva', print(a)"
   ]
  },
  {
   "cell_type": "markdown",
   "id": "71efc8dd",
   "metadata": {},
   "source": [
    "## 4. Comments"
   ]
  },
  {
   "cell_type": "markdown",
   "id": "4e882a05",
   "metadata": {},
   "source": [
    "## 5. Keywords \n",
    "    - Python is Interpreter language which will convert the code(high level language) to binary language line by line\n",
    "    - There are english words in python such as print, if-else etc., and Just by looking at these words how the interpreter can understand print means printing the statemnt like wise if-else means branching loop created by Interpreter all because of some reserved words which will understand by Interpreter. This Interpreter will convert these words into binary language. \n",
    "    - There are 32 reserved words and these are known as Keywords. These 32 reserved for Interpreter and as a coder we will write a code by using these keywords as these words understand by Interpreter.\n",
    "    - Variable nomeclecture should not match with these Keywords because these keywords are reserved for Interpreter and getting confused by Interpreter."
   ]
  },
  {
   "cell_type": "code",
   "execution_count": 9,
   "id": "556dfe38",
   "metadata": {},
   "outputs": [
    {
     "data": {
      "text/plain": [
       "['False',\n",
       " 'None',\n",
       " 'True',\n",
       " 'and',\n",
       " 'as',\n",
       " 'assert',\n",
       " 'async',\n",
       " 'await',\n",
       " 'break',\n",
       " 'class',\n",
       " 'continue',\n",
       " 'def',\n",
       " 'del',\n",
       " 'elif',\n",
       " 'else',\n",
       " 'except',\n",
       " 'finally',\n",
       " 'for',\n",
       " 'from',\n",
       " 'global',\n",
       " 'if',\n",
       " 'import',\n",
       " 'in',\n",
       " 'is',\n",
       " 'lambda',\n",
       " 'nonlocal',\n",
       " 'not',\n",
       " 'or',\n",
       " 'pass',\n",
       " 'raise',\n",
       " 'return',\n",
       " 'try',\n",
       " 'while',\n",
       " 'with',\n",
       " 'yield']"
      ]
     },
     "execution_count": 9,
     "metadata": {},
     "output_type": "execute_result"
    }
   ],
   "source": [
    "from keyword import kwlist\n",
    "kwlist"
   ]
  },
  {
   "cell_type": "markdown",
   "id": "a6dc79b0",
   "metadata": {},
   "source": [
    "## 6. Identifiers\n",
    "#### . Identifiers are naming given to the variable/classes is known as Identifiers.\n",
    "\n",
    "### Rules\n",
    "    . It should not start with digits\n",
    "    . No special characters used in the Identifiers Except ( _ ) underscore\n",
    "    . Identifiers can't be Keywords"
   ]
  },
  {
   "cell_type": "code",
   "execution_count": 11,
   "id": "d2ae111c",
   "metadata": {},
   "outputs": [
    {
     "ename": "SyntaxError",
     "evalue": "invalid decimal literal (2927809954.py, line 1)",
     "output_type": "error",
     "traceback": [
      "\u001b[1;36m  Cell \u001b[1;32mIn[11], line 1\u001b[1;36m\u001b[0m\n\u001b[1;33m    1digit.isidentifier()\u001b[0m\n\u001b[1;37m    ^\u001b[0m\n\u001b[1;31mSyntaxError\u001b[0m\u001b[1;31m:\u001b[0m invalid decimal literal\n"
     ]
    }
   ],
   "source": [
    "1digit.isidentifier()"
   ]
  },
  {
   "cell_type": "code",
   "execution_count": 12,
   "id": "472aee12",
   "metadata": {},
   "outputs": [
    {
     "data": {
      "text/plain": [
       "True"
      ]
     },
     "execution_count": 12,
     "metadata": {},
     "output_type": "execute_result"
    }
   ],
   "source": [
    "_var = \"siva\"\n",
    "_var.isidentifier()"
   ]
  },
  {
   "cell_type": "markdown",
   "id": "70909431",
   "metadata": {},
   "source": [
    "## 6. Input()"
   ]
  },
  {
   "cell_type": "code",
   "execution_count": null,
   "id": "1ff1d4e4",
   "metadata": {},
   "outputs": [],
   "source": [
    "input()"
   ]
  },
  {
   "cell_type": "code",
   "execution_count": 1,
   "id": "6b4a2acc",
   "metadata": {},
   "outputs": [
    {
     "name": "stdout",
     "output_type": "stream",
     "text": [
      "Enter your emailsiva.seelam1996@gmail.com\n"
     ]
    },
    {
     "data": {
      "text/plain": [
       "'siva.seelam1996@gmail.com'"
      ]
     },
     "execution_count": 1,
     "metadata": {},
     "output_type": "execute_result"
    }
   ],
   "source": [
    "input('Enter your email')"
   ]
  },
  {
   "cell_type": "code",
   "execution_count": 3,
   "id": "08acd37b",
   "metadata": {},
   "outputs": [
    {
     "name": "stdout",
     "output_type": "stream",
     "text": [
      "Enter first number45\n",
      "Enter second number54\n",
      "4554\n"
     ]
    }
   ],
   "source": [
    "# take input from users and store in the variables\n",
    "fnum = input('Enter first number')\n",
    "snum = input('Enter second number')\n",
    "# add 2 variables \n",
    "res = fnum + snum\n",
    "# print the results\n",
    "print(res)"
   ]
  },
  {
   "cell_type": "code",
   "execution_count": 5,
   "id": "e8f89cc5",
   "metadata": {},
   "outputs": [
    {
     "name": "stdout",
     "output_type": "stream",
     "text": [
      "Enter first number45\n",
      "Enter second number54\n",
      "<class 'str'> <class 'str'>\n"
     ]
    }
   ],
   "source": [
    "fnum = input('Enter first number')\n",
    "snum = input('Enter second number')\n",
    "print(type(fnum),type(snum))"
   ]
  },
  {
   "cell_type": "code",
   "execution_count": null,
   "id": "8f944f7a",
   "metadata": {},
   "outputs": [],
   "source": [
    "# from above we can conclude the inputs are strings"
   ]
  },
  {
   "cell_type": "code",
   "execution_count": 4,
   "id": "289c71c4",
   "metadata": {},
   "outputs": [
    {
     "name": "stdout",
     "output_type": "stream",
     "text": [
      "Enter first number45\n",
      "Enter second number54\n",
      "99\n"
     ]
    }
   ],
   "source": [
    "# input() function is a string that is why it is concatenated\n",
    "fnum = int(input('Enter first number'))\n",
    "snum = int(input('Enter second number'))\n",
    "res = fnum + snum\n",
    "print(res)"
   ]
  },
  {
   "cell_type": "markdown",
   "id": "513cf0b1",
   "metadata": {},
   "source": [
    "### Note:\n",
    "1. why input takes string inside input because string is universal data type\n",
    "2. for example: a number / any data type we can store in string format (4 --> four like this)\n",
    "3. but we can't store string in other data type\n",
    "4. To convert this conversion of data types from one data type to other is known as \"TYPE CASTING\""
   ]
  },
  {
   "cell_type": "markdown",
   "id": "83deaa86",
   "metadata": {},
   "source": [
    "## 7. Type Conversion\n",
    "### There are 2 types of Type Conversion:\n",
    "     . 1. Implicit 2. Explicit\n",
    "1. Implicit: Pyhton is intelligent enough to understand automatically few things what to do in-built\n",
    "   . For ex: print(5+5.6)---> output will be 10.6 (Here we work upon 2 different data types one is 'integer' and second one 'float' but python will understand.\n",
    "2. Explicit: There are data types which are required to be changed otherwise it will through an error\n",
    "   . For ex: when we apply mathematical operation on string with integer, It is really does not make sense logically, then python interpreter will through an error by stating that 'change the data type i.e., Type Conversion'.\n",
    "### The following are few type Conversions:\n",
    "    . int(input('string')) --> converts str to int\n",
    "    . int(float value)      --> Converts float value to integer\n",
    "    . str(integer value)  --> Converts int to str\n",
    "    . float(int value)    --> Converts int to float value\n",
    "    . Like wise every data type(such as str, List, sets,Dictionaries,float,etc.,) has one function dedicate in order to type conversion"
   ]
  },
  {
   "cell_type": "markdown",
   "id": "c8906dc6",
   "metadata": {},
   "source": [
    "## 8. Literals\n",
    "    . Basically Literals are the 'type of values'in which variables stored.\n",
    "    . For ex: a=2 --> It means a is the variables, = is operator, 2 is the values (which type of value it is 'integer' is known as integer Literals')"
   ]
  },
  {
   "cell_type": "code",
   "execution_count": 3,
   "id": "7219b174",
   "metadata": {},
   "outputs": [
    {
     "name": "stdout",
     "output_type": "stream",
     "text": [
      "10 100 200 300\n",
      "10.5 150.0 0.0015\n",
      "3.14j\n"
     ]
    }
   ],
   "source": [
    "a = 0b1010  # Binary Literals: represents --> 0b indicates the values is in Binary Literals\n",
    "b = 100     # Decimal Literals is usual number value and print output as 100\n",
    "c = 0o310   # Octal Literals: represents --> 0o indicates the values is in Octal Literals\n",
    "d = 0x12c   # Hexadecimal Literals:represents --> 0x indicates the values is in Hexadecimal Literals\n",
    "\n",
    "# Float Literal\n",
    "float_1 = 10.5\n",
    "float_2 = 1.5e2  # 1.5 * 10^2\n",
    "float_3 = 1.5e-3  # 1.5 * 10^-3\n",
    "\n",
    "# Complex Literal\n",
    "x = 3.14j\n",
    "\n",
    "print(a,b,c,d)\n",
    "print(float_1,float_2,float_3)\n",
    "print(x)"
   ]
  },
  {
   "cell_type": "code",
   "execution_count": 7,
   "id": "c0e22293",
   "metadata": {},
   "outputs": [
    {
     "name": "stdout",
     "output_type": "stream",
     "text": [
      "The real and imaginary numbers are respectively:-->0.0-->3.14\n"
     ]
    }
   ],
   "source": [
    "# print imaginary,real number from complex number\n",
    "x = 3.14j\n",
    "print('The real and imaginary numbers are respectively:',x.real,x.imag,sep='-->')"
   ]
  },
  {
   "cell_type": "markdown",
   "id": "84f0e3ba",
   "metadata": {},
   "source": [
    "### String Literals/ Ways to represent string values stored in a variables"
   ]
  },
  {
   "cell_type": "code",
   "execution_count": 16,
   "id": "94fa78b1",
   "metadata": {},
   "outputs": [
    {
     "name": "stdout",
     "output_type": "stream",
     "text": [
      "This is a python\n",
      "This is a python\n",
      "c\n",
      "This is a multiline string with more than one line code.\n",
      "😀😆🤣\n",
      "raw \\n string\n"
     ]
    }
   ],
   "source": [
    "string = 'This is a python'   # we can represent the string value in single inverted commas\n",
    "strings = \"This is a python\"  # we can represent the string value in double inverted commas\n",
    "char = \"c\"  # we can represent the string value in single character, This is also a string  \n",
    "multiline_str = \"\"\"This is a multiline string with more than one line code.\"\"\" # double quotations also represented string when we store multiline string\n",
    "unicode = u\"\\U0001f600\\U0001F606\\U0001F923\"  # This is smiley faces usually used in text messages in whatsapp, which is string\n",
    "raw_str = r\"raw \\n string\"\n",
    "\n",
    "print(string)\n",
    "print(strings)\n",
    "print(char)\n",
    "print(multiline_str)\n",
    "print(unicode)\n",
    "print(raw_str)\n"
   ]
  },
  {
   "cell_type": "markdown",
   "id": "d78e55c5",
   "metadata": {},
   "source": [
    "## Mathematical operations on Boolean data type\n",
    "    1. True 2. False 3. None"
   ]
  },
  {
   "cell_type": "code",
   "execution_count": 17,
   "id": "5c6e3652",
   "metadata": {},
   "outputs": [
    {
     "name": "stdout",
     "output_type": "stream",
     "text": [
      "a: 5\n",
      "b: 10\n"
     ]
    }
   ],
   "source": [
    "a = True + 4       # python interpreter understand True--> means 1, whereas, False--> 0\n",
    "b = False + 10     # We can apply mathematical operation on this and It will worked out\n",
    "print(\"a:\",a)\n",
    "print(\"b:\",b)"
   ]
  },
  {
   "cell_type": "markdown",
   "id": "4f690a24",
   "metadata": {},
   "source": [
    "## Application on None keyword\n",
    "    .In python there is no variable declaration as other programs had like in C, Java et., .For ex: we declare variable initially itself no matter whether we use those variables in your code or not.But in python we don't declare variables rather we use variables whenever we want.\n",
    "    .If we declare 5 variables in initially in other languages like Java, but we get opurtunity to use 4 variables out of 5 variables. It means 1 variable kept for the future purpose in case when we write an code we might need variable.\n",
    "    .But, in python if we use extra variable without using that variable, python interpreter will thrown an error.\n",
    "    .In that situation 'None' is used to get rid from the error."
   ]
  },
  {
   "cell_type": "code",
   "execution_count": 20,
   "id": "687bba84",
   "metadata": {},
   "outputs": [
    {
     "ename": "NameError",
     "evalue": "name 'y' is not defined",
     "output_type": "error",
     "traceback": [
      "\u001b[1;31m---------------------------------------------------------------------------\u001b[0m",
      "\u001b[1;31mNameError\u001b[0m                                 Traceback (most recent call last)",
      "Cell \u001b[1;32mIn[20], line 1\u001b[0m\n\u001b[1;32m----> 1\u001b[0m \u001b[43my\u001b[49m               \u001b[38;5;66;03m# Here I use 'y' as variable but, didn't use tht variable. \u001b[39;00m\n\u001b[0;32m      2\u001b[0m b \u001b[38;5;241m=\u001b[39m \u001b[38;5;241m5\u001b[39m\n\u001b[0;32m      3\u001b[0m c \u001b[38;5;241m=\u001b[39m \u001b[38;5;241m4\u001b[39m\u001b[38;5;241m+\u001b[39m\u001b[38;5;241m5\u001b[39mj\n",
      "\u001b[1;31mNameError\u001b[0m: name 'y' is not defined"
     ]
    }
   ],
   "source": [
    "y               # Here I use 'y' as variable but, didn't use tht variable to store any value. \n",
    "b = 5\n",
    "c = 4+5j\n",
    "print(y,b,c)"
   ]
  },
  {
   "cell_type": "code",
   "execution_count": 21,
   "id": "ef5294eb",
   "metadata": {},
   "outputs": [
    {
     "name": "stdout",
     "output_type": "stream",
     "text": [
      "None 5 (4+5j)\n"
     ]
    }
   ],
   "source": [
    "y = None             # Here 'y' is variable used for future purpose, while writing a code In case required.\n",
    "b = 5\n",
    "c = 4+5j\n",
    "print(y,b,c)"
   ]
  },
  {
   "cell_type": "code",
   "execution_count": null,
   "id": "6b9122ab",
   "metadata": {},
   "outputs": [],
   "source": []
  },
  {
   "cell_type": "code",
   "execution_count": null,
   "id": "6fa23d67",
   "metadata": {},
   "outputs": [],
   "source": []
  },
  {
   "cell_type": "code",
   "execution_count": null,
   "id": "2dd4f8c5",
   "metadata": {},
   "outputs": [],
   "source": []
  },
  {
   "cell_type": "code",
   "execution_count": null,
   "id": "78caf21d",
   "metadata": {},
   "outputs": [],
   "source": []
  }
 ],
 "metadata": {
  "kernelspec": {
   "display_name": "Python 3 (ipykernel)",
   "language": "python",
   "name": "python3"
  },
  "language_info": {
   "codemirror_mode": {
    "name": "ipython",
    "version": 3
   },
   "file_extension": ".py",
   "mimetype": "text/x-python",
   "name": "python",
   "nbconvert_exporter": "python",
   "pygments_lexer": "ipython3",
   "version": "3.10.9"
  }
 },
 "nbformat": 4,
 "nbformat_minor": 5
}
