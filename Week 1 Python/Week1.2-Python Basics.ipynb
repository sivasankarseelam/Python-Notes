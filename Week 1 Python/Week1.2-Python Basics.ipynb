{
 "cells": [
  {
   "cell_type": "markdown",
   "id": "f681bf41",
   "metadata": {},
   "source": [
    "## Python basics\n",
    "##### Python data types\n",
    " - Integers\n",
    " - Float\n",
    " - Strings\n",
    " - Complex numbers\n",
    " - Boolean\n",
    "##### In-built functions to know the data types:\n",
    " - type()\n",
    " ##### type casting to convert one data type to another data type\n",
    " - str(3) ---> # converts \"3\" as a string\n",
    " ##### concatatination will happen only for same data types\n",
    " - \"str\"+3 ---> error as str and integer will not combine\n",
    " - \"str\"+ \"ing\" ----> Output: string\n",
    " - \"str\"+\"3\" ----> str3"
   ]
  },
  {
   "cell_type": "code",
   "execution_count": null,
   "id": "96dcacaa",
   "metadata": {},
   "outputs": [],
   "source": []
  },
  {
   "cell_type": "code",
   "execution_count": 2,
   "id": "79bca068",
   "metadata": {},
   "outputs": [],
   "source": [
    "a=3+3j # complex number"
   ]
  },
  {
   "cell_type": "code",
   "execution_count": 4,
   "id": "7d89c8f8",
   "metadata": {},
   "outputs": [
    {
     "data": {
      "text/plain": [
       "(3+3j)"
      ]
     },
     "execution_count": 4,
     "metadata": {},
     "output_type": "execute_result"
    }
   ],
   "source": [
    "a"
   ]
  },
  {
   "cell_type": "code",
   "execution_count": 5,
   "id": "f1f13bb1",
   "metadata": {},
   "outputs": [
    {
     "data": {
      "text/plain": [
       "3.0"
      ]
     },
     "execution_count": 5,
     "metadata": {},
     "output_type": "execute_result"
    }
   ],
   "source": [
    "# press tab button in oder to see inbuilt functions we can perform on complex numbers\n",
    "# a.(press tab button)---> it will show in-built functions\n",
    "a.imag"
   ]
  },
  {
   "cell_type": "code",
   "execution_count": 6,
   "id": "5b20fc7b",
   "metadata": {},
   "outputs": [
    {
     "data": {
      "text/plain": [
       "3.0"
      ]
     },
     "execution_count": 6,
     "metadata": {},
     "output_type": "execute_result"
    }
   ],
   "source": [
    "a.real"
   ]
  },
  {
   "cell_type": "code",
   "execution_count": 7,
   "id": "dc20ee96",
   "metadata": {},
   "outputs": [],
   "source": [
    "a= \"Hello\""
   ]
  },
  {
   "cell_type": "code",
   "execution_count": 8,
   "id": "df978df4",
   "metadata": {},
   "outputs": [
    {
     "data": {
      "text/plain": [
       "'Hello'"
      ]
     },
     "execution_count": 8,
     "metadata": {},
     "output_type": "execute_result"
    }
   ],
   "source": [
    "a       # intially a contains complex number but it has been replaced a string"
   ]
  },
  {
   "cell_type": "code",
   "execution_count": 12,
   "id": "a5acb773",
   "metadata": {},
   "outputs": [
    {
     "name": "stdout",
     "output_type": "stream",
     "text": [
      "no of occurence of 'H': 1 \n",
      "\n"
     ]
    }
   ],
   "source": [
    "# in order to see in-built functions can apply on string press 'tab' button\n",
    "b= a.count(\"H\")\n",
    "print(\"no of occurence of 'H':\", b,\"\\n\")"
   ]
  },
  {
   "cell_type": "code",
   "execution_count": 13,
   "id": "8c4e3409",
   "metadata": {},
   "outputs": [
    {
     "name": "stdout",
     "output_type": "stream",
     "text": [
      "original string: Hello \n",
      "\n",
      "new string: hello \n",
      "\n"
     ]
    }
   ],
   "source": [
    "c=a.lower()\n",
    "print(\"original string:\",a, \"\\n\")\n",
    "print(\"new string:\", c, \"\\n\")"
   ]
  },
  {
   "cell_type": "code",
   "execution_count": 14,
   "id": "8a836558",
   "metadata": {},
   "outputs": [],
   "source": [
    "a=\"siva\""
   ]
  },
  {
   "cell_type": "code",
   "execution_count": 15,
   "id": "773b2795",
   "metadata": {},
   "outputs": [
    {
     "data": {
      "text/plain": [
       "str"
      ]
     },
     "execution_count": 15,
     "metadata": {},
     "output_type": "execute_result"
    }
   ],
   "source": [
    "type(a)"
   ]
  },
  {
   "cell_type": "markdown",
   "id": "87e8c24d",
   "metadata": {},
   "source": [
    "#### If I want to access the letter in \"siva\" by means of Indexing\n",
    "- \"siva\" is stored in 'a'\n",
    "-  \"a[0]---> we can access the 0th index means first letter of \"siva\"\n"
   ]
  },
  {
   "cell_type": "markdown",
   "id": "0f83f35a",
   "metadata": {},
   "source": [
    "#### Forward Indexing\n",
    "- always starts with 0 and ends with length of string-1 (i.e., len-1)"
   ]
  },
  {
   "cell_type": "code",
   "execution_count": null,
   "id": "cb5d5372",
   "metadata": {},
   "outputs": [],
   "source": []
  },
  {
   "cell_type": "code",
   "execution_count": 16,
   "id": "38f63bc9",
   "metadata": {},
   "outputs": [
    {
     "data": {
      "text/plain": [
       "'s'"
      ]
     },
     "execution_count": 16,
     "metadata": {},
     "output_type": "execute_result"
    }
   ],
   "source": [
    "a[0]"
   ]
  },
  {
   "cell_type": "code",
   "execution_count": 17,
   "id": "28a1cffc",
   "metadata": {},
   "outputs": [
    {
     "data": {
      "text/plain": [
       "'i'"
      ]
     },
     "execution_count": 17,
     "metadata": {},
     "output_type": "execute_result"
    }
   ],
   "source": [
    "a[1]"
   ]
  },
  {
   "cell_type": "code",
   "execution_count": 18,
   "id": "771b01a0",
   "metadata": {},
   "outputs": [
    {
     "data": {
      "text/plain": [
       "'v'"
      ]
     },
     "execution_count": 18,
     "metadata": {},
     "output_type": "execute_result"
    }
   ],
   "source": [
    "a[2]"
   ]
  },
  {
   "cell_type": "code",
   "execution_count": 19,
   "id": "d5020965",
   "metadata": {},
   "outputs": [
    {
     "data": {
      "text/plain": [
       "'a'"
      ]
     },
     "execution_count": 19,
     "metadata": {},
     "output_type": "execute_result"
    }
   ],
   "source": [
    "a[3]"
   ]
  },
  {
   "cell_type": "markdown",
   "id": "8d8cd42a",
   "metadata": {},
   "source": [
    "#### Backward indexing\n",
    "- always starts fom -1"
   ]
  },
  {
   "cell_type": "code",
   "execution_count": 20,
   "id": "c7465a81",
   "metadata": {},
   "outputs": [
    {
     "data": {
      "text/plain": [
       "'a'"
      ]
     },
     "execution_count": 20,
     "metadata": {},
     "output_type": "execute_result"
    }
   ],
   "source": [
    "a[-1]"
   ]
  },
  {
   "cell_type": "code",
   "execution_count": 21,
   "id": "814f7bab",
   "metadata": {},
   "outputs": [
    {
     "data": {
      "text/plain": [
       "'v'"
      ]
     },
     "execution_count": 21,
     "metadata": {},
     "output_type": "execute_result"
    }
   ],
   "source": [
    "a[-2]"
   ]
  },
  {
   "cell_type": "code",
   "execution_count": 22,
   "id": "1c121a33",
   "metadata": {},
   "outputs": [
    {
     "data": {
      "text/plain": [
       "'i'"
      ]
     },
     "execution_count": 22,
     "metadata": {},
     "output_type": "execute_result"
    }
   ],
   "source": [
    "a[-3]"
   ]
  },
  {
   "cell_type": "code",
   "execution_count": 23,
   "id": "7cfa7b30",
   "metadata": {},
   "outputs": [
    {
     "data": {
      "text/plain": [
       "'s'"
      ]
     },
     "execution_count": 23,
     "metadata": {},
     "output_type": "execute_result"
    }
   ],
   "source": [
    "a[-4]"
   ]
  },
  {
   "cell_type": "markdown",
   "id": "b258479d",
   "metadata": {},
   "source": [
    "#### Slicing\n",
    "- If we want to access the range of words but, in earlier case we only access one letter from the string\n",
    "- Eg: a[0:4] ---> means we can access 0th index to 3rd index (remember 4th index excluded)"
   ]
  },
  {
   "cell_type": "code",
   "execution_count": 24,
   "id": "20861ce1",
   "metadata": {},
   "outputs": [
    {
     "data": {
      "text/plain": [
       "4"
      ]
     },
     "execution_count": 24,
     "metadata": {},
     "output_type": "execute_result"
    }
   ],
   "source": [
    "len(a)"
   ]
  },
  {
   "cell_type": "code",
   "execution_count": 25,
   "id": "a4c1d2b6",
   "metadata": {},
   "outputs": [
    {
     "data": {
      "text/plain": [
       "'siva'"
      ]
     },
     "execution_count": 25,
     "metadata": {},
     "output_type": "execute_result"
    }
   ],
   "source": [
    "a[0:5]"
   ]
  },
  {
   "cell_type": "code",
   "execution_count": 26,
   "id": "a091abf7",
   "metadata": {},
   "outputs": [
    {
     "data": {
      "text/plain": [
       "'siva'"
      ]
     },
     "execution_count": 26,
     "metadata": {},
     "output_type": "execute_result"
    }
   ],
   "source": [
    "a[0:4]"
   ]
  },
  {
   "cell_type": "code",
   "execution_count": 27,
   "id": "e6b88cf5",
   "metadata": {},
   "outputs": [
    {
     "data": {
      "text/plain": [
       "'siv'"
      ]
     },
     "execution_count": 27,
     "metadata": {},
     "output_type": "execute_result"
    }
   ],
   "source": [
    "a[0:3]"
   ]
  },
  {
   "cell_type": "code",
   "execution_count": 28,
   "id": "7e1bcc8e",
   "metadata": {},
   "outputs": [
    {
     "data": {
      "text/plain": [
       "'siva'"
      ]
     },
     "execution_count": 28,
     "metadata": {},
     "output_type": "execute_result"
    }
   ],
   "source": [
    "a[0:1000]    # Here the index range is beyond but our string data is with in the range so it will get the output."
   ]
  },
  {
   "cell_type": "code",
   "execution_count": 29,
   "id": "a63f35f9",
   "metadata": {},
   "outputs": [
    {
     "ename": "IndexError",
     "evalue": "string index out of range",
     "output_type": "error",
     "traceback": [
      "\u001b[1;31m---------------------------------------------------------------------------\u001b[0m",
      "\u001b[1;31mIndexError\u001b[0m                                Traceback (most recent call last)",
      "Cell \u001b[1;32mIn[29], line 1\u001b[0m\n\u001b[1;32m----> 1\u001b[0m \u001b[43ma\u001b[49m\u001b[43m[\u001b[49m\u001b[38;5;241;43m1000\u001b[39;49m\u001b[43m]\u001b[49m\n",
      "\u001b[1;31mIndexError\u001b[0m: string index out of range"
     ]
    }
   ],
   "source": [
    "a[1000]       # Here we are trying to access the one letter from the string but we are accessing the 1000th index."
   ]
  },
  {
   "cell_type": "markdown",
   "id": "42c84fa3",
   "metadata": {},
   "source": [
    "#### Scaling Indexing\n",
    "- a[0:4:1] ---> means get the string data from the 0th index to 3rd index with step size 1\n",
    "- a[0:4:2] ---> here 2 is the step size\n",
    "- a[0:4]   ---> by default step size is 1.\n",
    "- a[-1:-4] ---> by default step size is 1 but the index is negative (Output: '')\n",
    "- a[0:100:-1] ---> Output :''\n",
    "- a[0:-10:-1] ---> Output: 's'"
   ]
  },
  {
   "cell_type": "code",
   "execution_count": 30,
   "id": "157bc7e6",
   "metadata": {},
   "outputs": [
    {
     "data": {
      "text/plain": [
       "'siva'"
      ]
     },
     "execution_count": 30,
     "metadata": {},
     "output_type": "execute_result"
    }
   ],
   "source": [
    "a"
   ]
  },
  {
   "cell_type": "code",
   "execution_count": 31,
   "id": "bbb15b8f",
   "metadata": {},
   "outputs": [
    {
     "data": {
      "text/plain": [
       "''"
      ]
     },
     "execution_count": 31,
     "metadata": {},
     "output_type": "execute_result"
    }
   ],
   "source": [
    "a[0:10:-1]"
   ]
  },
  {
   "cell_type": "code",
   "execution_count": 32,
   "id": "37e4a773",
   "metadata": {},
   "outputs": [
    {
     "data": {
      "text/plain": [
       "'s'"
      ]
     },
     "execution_count": 32,
     "metadata": {},
     "output_type": "execute_result"
    }
   ],
   "source": [
    "a[0:-10:-1]"
   ]
  },
  {
   "cell_type": "code",
   "execution_count": 33,
   "id": "8041494c",
   "metadata": {},
   "outputs": [
    {
     "data": {
      "text/plain": [
       "'avis'"
      ]
     },
     "execution_count": 33,
     "metadata": {},
     "output_type": "execute_result"
    }
   ],
   "source": [
    "a[-1:-5:-1]   # reverse string by using negative index"
   ]
  },
  {
   "cell_type": "code",
   "execution_count": 34,
   "id": "ff7e2dbb",
   "metadata": {},
   "outputs": [
    {
     "data": {
      "text/plain": [
       "'siva'"
      ]
     },
     "execution_count": 34,
     "metadata": {},
     "output_type": "execute_result"
    }
   ],
   "source": [
    "a[::]     # here step size is by-default 1, index starts from 0 th till the last."
   ]
  },
  {
   "cell_type": "code",
   "execution_count": 35,
   "id": "24562766",
   "metadata": {},
   "outputs": [
    {
     "data": {
      "text/plain": [
       "'siv'"
      ]
     },
     "execution_count": 35,
     "metadata": {},
     "output_type": "execute_result"
    }
   ],
   "source": [
    "a[:3]"
   ]
  },
  {
   "cell_type": "code",
   "execution_count": 36,
   "id": "9a1eb61a",
   "metadata": {},
   "outputs": [
    {
     "data": {
      "text/plain": [
       "'va'"
      ]
     },
     "execution_count": 36,
     "metadata": {},
     "output_type": "execute_result"
    }
   ],
   "source": [
    "a[-2:]          # here index starts from -2 to towards positive side with by-default step size 1."
   ]
  },
  {
   "cell_type": "code",
   "execution_count": 37,
   "id": "4ba18064",
   "metadata": {},
   "outputs": [
    {
     "data": {
      "text/plain": [
       "'avis'"
      ]
     },
     "execution_count": 37,
     "metadata": {},
     "output_type": "execute_result"
    }
   ],
   "source": [
    "a[::-1]          # data access in the reverse order"
   ]
  },
  {
   "cell_type": "code",
   "execution_count": 38,
   "id": "743f162c",
   "metadata": {},
   "outputs": [
    {
     "data": {
      "text/plain": [
       "'avis'"
      ]
     },
     "execution_count": 38,
     "metadata": {},
     "output_type": "execute_result"
    }
   ],
   "source": [
    "a[-1::-1]"
   ]
  },
  {
   "cell_type": "code",
   "execution_count": 39,
   "id": "8aabb8e3",
   "metadata": {},
   "outputs": [],
   "source": [
    "a= \"I love my family\""
   ]
  },
  {
   "cell_type": "markdown",
   "id": "1d9ae33a",
   "metadata": {},
   "source": [
    "#### Operators with the string\n",
    "- (+) is used for concatinate\n",
    "- (*) is used for repeat the string\n",
    "- only these two operators used for strings"
   ]
  },
  {
   "cell_type": "code",
   "execution_count": 40,
   "id": "a738342e",
   "metadata": {},
   "outputs": [
    {
     "data": {
      "text/plain": [
       "'sivasankar'"
      ]
     },
     "execution_count": 40,
     "metadata": {},
     "output_type": "execute_result"
    }
   ],
   "source": [
    "'siva'+'sankar'"
   ]
  },
  {
   "cell_type": "code",
   "execution_count": 42,
   "id": "966add8f",
   "metadata": {},
   "outputs": [
    {
     "data": {
      "text/plain": [
       "'sivasivasiva'"
      ]
     },
     "execution_count": 42,
     "metadata": {},
     "output_type": "execute_result"
    }
   ],
   "source": [
    "'siva'*3"
   ]
  },
  {
   "cell_type": "code",
   "execution_count": 43,
   "id": "e86bd4f3",
   "metadata": {},
   "outputs": [
    {
     "data": {
      "text/plain": [
       "'I love my family'"
      ]
     },
     "execution_count": 43,
     "metadata": {},
     "output_type": "execute_result"
    }
   ],
   "source": [
    "a"
   ]
  },
  {
   "cell_type": "markdown",
   "id": "a1830f58",
   "metadata": {},
   "source": [
    "#### length of the string"
   ]
  },
  {
   "cell_type": "code",
   "execution_count": 44,
   "id": "f1cb19f2",
   "metadata": {},
   "outputs": [
    {
     "data": {
      "text/plain": [
       "16"
      ]
     },
     "execution_count": 44,
     "metadata": {},
     "output_type": "execute_result"
    }
   ],
   "source": [
    "len(a)   # include space"
   ]
  },
  {
   "cell_type": "markdown",
   "id": "02a5551e",
   "metadata": {},
   "source": [
    "#### String in-built functions (press tab)\n",
    "- find()\n",
    "- count()\n",
    "- split()"
   ]
  },
  {
   "cell_type": "code",
   "execution_count": null,
   "id": "cb1894bd",
   "metadata": {},
   "outputs": [],
   "source": []
  },
  {
   "cell_type": "code",
   "execution_count": 45,
   "id": "81404497",
   "metadata": {},
   "outputs": [
    {
     "data": {
      "text/plain": [
       "'I love my family'"
      ]
     },
     "execution_count": 45,
     "metadata": {},
     "output_type": "execute_result"
    }
   ],
   "source": [
    "a"
   ]
  },
  {
   "cell_type": "code",
   "execution_count": 46,
   "id": "5e1ae31c",
   "metadata": {},
   "outputs": [
    {
     "data": {
      "text/plain": [
       "0"
      ]
     },
     "execution_count": 46,
     "metadata": {},
     "output_type": "execute_result"
    }
   ],
   "source": [
    "a.find('I')     # find the 'i' with the lowest index returns"
   ]
  },
  {
   "cell_type": "code",
   "execution_count": 47,
   "id": "3bbf0300",
   "metadata": {},
   "outputs": [],
   "source": [
    "b= 'i am working with ineuron'"
   ]
  },
  {
   "cell_type": "code",
   "execution_count": 48,
   "id": "7f2087a6",
   "metadata": {},
   "outputs": [
    {
     "data": {
      "text/plain": [
       "9"
      ]
     },
     "execution_count": 48,
     "metadata": {},
     "output_type": "execute_result"
    }
   ],
   "source": [
    "b.find('in')     "
   ]
  },
  {
   "cell_type": "code",
   "execution_count": 49,
   "id": "b2e74774",
   "metadata": {},
   "outputs": [
    {
     "data": {
      "text/plain": [
       "-1"
      ]
     },
     "execution_count": 49,
     "metadata": {},
     "output_type": "execute_result"
    }
   ],
   "source": [
    "b.find('ia')     # if 'ia' combination does not found any where in the string then it returns -1."
   ]
  },
  {
   "cell_type": "code",
   "execution_count": 50,
   "id": "3f8f340e",
   "metadata": {},
   "outputs": [
    {
     "data": {
      "text/plain": [
       "4"
      ]
     },
     "execution_count": 50,
     "metadata": {},
     "output_type": "execute_result"
    }
   ],
   "source": [
    "b.count('i') # how many times 'i' has appears."
   ]
  },
  {
   "cell_type": "code",
   "execution_count": 51,
   "id": "eb97640e",
   "metadata": {},
   "outputs": [
    {
     "data": {
      "text/plain": [
       "'i am working with ineuron'"
      ]
     },
     "execution_count": 51,
     "metadata": {},
     "output_type": "execute_result"
    }
   ],
   "source": [
    "b"
   ]
  },
  {
   "cell_type": "code",
   "execution_count": 52,
   "id": "45eaf6bc",
   "metadata": {},
   "outputs": [
    {
     "data": {
      "text/plain": [
       "['i', 'am', 'working', 'with', 'ineuron']"
      ]
     },
     "execution_count": 52,
     "metadata": {},
     "output_type": "execute_result"
    }
   ],
   "source": [
    "b.split()  # it splits the sentence into words wherever there is a space "
   ]
  },
  {
   "cell_type": "code",
   "execution_count": 53,
   "id": "e0a39050",
   "metadata": {},
   "outputs": [
    {
     "data": {
      "text/plain": [
       "list"
      ]
     },
     "execution_count": 53,
     "metadata": {},
     "output_type": "execute_result"
    }
   ],
   "source": [
    "type(b.split())"
   ]
  },
  {
   "cell_type": "code",
   "execution_count": 54,
   "id": "85fbeaee",
   "metadata": {},
   "outputs": [],
   "source": [
    "l = b.split()"
   ]
  },
  {
   "cell_type": "code",
   "execution_count": 55,
   "id": "2c337478",
   "metadata": {},
   "outputs": [
    {
     "data": {
      "text/plain": [
       "['i', 'am', 'working', 'with', 'ineuron']"
      ]
     },
     "execution_count": 55,
     "metadata": {},
     "output_type": "execute_result"
    }
   ],
   "source": [
    "l"
   ]
  },
  {
   "cell_type": "code",
   "execution_count": 56,
   "id": "847e9aee",
   "metadata": {},
   "outputs": [
    {
     "data": {
      "text/plain": [
       "'i'"
      ]
     },
     "execution_count": 56,
     "metadata": {},
     "output_type": "execute_result"
    }
   ],
   "source": [
    "l[0]"
   ]
  },
  {
   "cell_type": "code",
   "execution_count": 57,
   "id": "4a94d568",
   "metadata": {},
   "outputs": [
    {
     "data": {
      "text/plain": [
       "['i', 'am', 'working', 'with', 'ineuron']"
      ]
     },
     "execution_count": 57,
     "metadata": {},
     "output_type": "execute_result"
    }
   ],
   "source": [
    "l[0:5]"
   ]
  },
  {
   "cell_type": "code",
   "execution_count": 58,
   "id": "5af80a53",
   "metadata": {},
   "outputs": [
    {
     "data": {
      "text/plain": [
       "['i', 'am', 'working', 'with']"
      ]
     },
     "execution_count": 58,
     "metadata": {},
     "output_type": "execute_result"
    }
   ],
   "source": [
    "l[0:4]"
   ]
  },
  {
   "cell_type": "code",
   "execution_count": 59,
   "id": "b3283a6d",
   "metadata": {},
   "outputs": [
    {
     "data": {
      "text/plain": [
       "['i am ', 'orking ', 'ith ineuron']"
      ]
     },
     "execution_count": 59,
     "metadata": {},
     "output_type": "execute_result"
    }
   ],
   "source": [
    "b.split('w')   # whereever there is a 'w' it splits the string as one and returns as List."
   ]
  },
  {
   "cell_type": "code",
   "execution_count": 60,
   "id": "95d40f6c",
   "metadata": {},
   "outputs": [
    {
     "data": {
      "text/plain": [
       "'i am working with ineuron'"
      ]
     },
     "execution_count": 60,
     "metadata": {},
     "output_type": "execute_result"
    }
   ],
   "source": [
    "b"
   ]
  },
  {
   "cell_type": "code",
   "execution_count": null,
   "id": "16179a1c",
   "metadata": {},
   "outputs": [],
   "source": []
  }
 ],
 "metadata": {
  "kernelspec": {
   "display_name": "Python 3 (ipykernel)",
   "language": "python",
   "name": "python3"
  },
  "language_info": {
   "codemirror_mode": {
    "name": "ipython",
    "version": 3
   },
   "file_extension": ".py",
   "mimetype": "text/x-python",
   "name": "python",
   "nbconvert_exporter": "python",
   "pygments_lexer": "ipython3",
   "version": "3.10.9"
  }
 },
 "nbformat": 4,
 "nbformat_minor": 5
}
