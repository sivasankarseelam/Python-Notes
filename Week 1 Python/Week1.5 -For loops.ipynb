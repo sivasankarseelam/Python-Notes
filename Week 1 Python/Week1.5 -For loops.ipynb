{
 "cells": [
  {
   "cell_type": "markdown",
   "id": "35d0f762",
   "metadata": {},
   "source": [
    "# Sequence of sum\n",
    "\n",
    "## 1/1! + 2/2! +3/3! +....."
   ]
  },
  {
   "cell_type": "code",
   "execution_count": null,
   "id": "af4cd670",
   "metadata": {},
   "outputs": [],
   "source": [
    "n = int(input('Enter a num:'))\n",
    "result = 0\n",
    "fact = 1\n",
    "for i in range(1,n+1):\n",
    "    fact = fact * i\n",
    "    result = result + i/fact\n",
    "    \n",
    "print(result)\n",
    "    "
   ]
  },
  {
   "cell_type": "markdown",
   "id": "f6aad887",
   "metadata": {},
   "source": [
    "## factorial\n",
    "\n",
    "### Given number is n\n",
    "### Output : n*(n-1)*(n-3)*.....\n"
   ]
  },
  {
   "cell_type": "code",
   "execution_count": null,
   "id": "286ceb09",
   "metadata": {},
   "outputs": [],
   "source": [
    "n = int(input('Enter a num:'))\n",
    "fact = 1\n",
    "\n",
    "for i in range(1,n+1):\n",
    "    fact = fact * i\n",
    "\n",
    "print(fact)"
   ]
  },
  {
   "cell_type": "code",
   "execution_count": null,
   "id": "06a64cf6",
   "metadata": {},
   "outputs": [],
   "source": [
    "import math        # math is module,in which factorial() is a function.\n",
    "\n",
    "a = int(input('Enter a num:'))\n",
    "\n",
    "print(math.factorial(a))"
   ]
  },
  {
   "cell_type": "code",
   "execution_count": null,
   "id": "33b8a5a3",
   "metadata": {},
   "outputs": [],
   "source": [
    "# Sum of nth number\n",
    "n = int(input('Enter a num:'))\n",
    "\n",
    "result = 0\n",
    "\n",
    "for i in range(1,n+1):\n",
    "    result = result + i\n",
    "print(result)\n"
   ]
  },
  {
   "cell_type": "markdown",
   "id": "49a034dd",
   "metadata": {},
   "source": [
    "## Nested Loop\n"
   ]
  },
  {
   "cell_type": "code",
   "execution_count": null,
   "id": "34e60cc1",
   "metadata": {},
   "outputs": [],
   "source": [
    "# Example --> Unique pairs\n",
    "\n",
    "for i in range(1, 5):\n",
    "    for j in range(1, 5):\n",
    "        print(i,j)\n",
    "    print('---') "
   ]
  },
  {
   "cell_type": "code",
   "execution_count": 1,
   "id": "4a46c9ef",
   "metadata": {},
   "outputs": [
    {
     "name": "stdout",
     "output_type": "stream",
     "text": [
      "Enter no of rows:5\n",
      "* \n",
      "* * \n",
      "* * * \n",
      "* * * * \n",
      "* * * * * \n"
     ]
    }
   ],
   "source": [
    "rows = int(input('Enter no of rows:'))\n",
    "\n",
    "for i in range(1, rows+1):\n",
    "    for j in range(1, i+1):\n",
    "        print('*',end = \" \")\n",
    "    print()"
   ]
  },
  {
   "cell_type": "markdown",
   "id": "5c97eb46",
   "metadata": {},
   "source": [
    "# Pattern\n",
    "\n",
    "### 1\n",
    "### 121\n",
    "### 12321\n",
    "### 1234321"
   ]
  },
  {
   "cell_type": "code",
   "execution_count": 1,
   "id": "d757036e",
   "metadata": {},
   "outputs": [
    {
     "name": "stdout",
     "output_type": "stream",
     "text": [
      "Enter a num of rows:5\n",
      "1\n",
      "121\n",
      "12321\n",
      "1234321\n",
      "123454321\n"
     ]
    }
   ],
   "source": [
    "rows = int(input('Enter a num of rows:'))\n",
    "\n",
    "for i in range(1, rows+1):\n",
    "    for j in range(1, i+1):\n",
    "        print(j, end = '')\n",
    "    for k in range(i-1, 0, -1):\n",
    "        print(k, end = '')\n",
    "    print()"
   ]
  },
  {
   "cell_type": "markdown",
   "id": "89c83137",
   "metadata": {},
   "source": [
    "### Loop control statement\n",
    "\n",
    "    - Break  (For real time application for break : Searching)\n",
    "    - continue\n",
    "    - Pass"
   ]
  },
  {
   "cell_type": "code",
   "execution_count": 2,
   "id": "2671b8da",
   "metadata": {},
   "outputs": [],
   "source": [
    "# For real time when you search for something in your mobile or application, you will find your desired point at some nth position, then we don't go beyond\n"
   ]
  },
  {
   "cell_type": "code",
   "execution_count": 5,
   "id": "1606cdf1",
   "metadata": {},
   "outputs": [
    {
     "name": "stdout",
     "output_type": "stream",
     "text": [
      "Enter lower range:10\n",
      "Enter upper range:100\n",
      "11\n",
      "13\n",
      "17\n",
      "19\n",
      "23\n",
      "29\n",
      "31\n",
      "37\n",
      "41\n",
      "43\n",
      "47\n",
      "53\n",
      "59\n",
      "61\n",
      "67\n",
      "71\n",
      "73\n",
      "79\n",
      "83\n",
      "89\n",
      "97\n"
     ]
    }
   ],
   "source": [
    "lower = int(input('Enter lower range:'))\n",
    "upper = int(input('Enter upper range:'))\n",
    "\n",
    "for i in range(lower, upper+1):\n",
    "    for j in range(2, i):\n",
    "        if i%j ==0: \n",
    "            break\n",
    "    else:\n",
    "        print(i)\n",
    "    \n",
    "        "
   ]
  },
  {
   "cell_type": "code",
   "execution_count": 2,
   "id": "a00108d2",
   "metadata": {},
   "outputs": [
    {
     "name": "stdout",
     "output_type": "stream",
     "text": [
      "Enter no of rows:5\n",
      "1 \n",
      "1 2 \n",
      "1 2 3 \n",
      "1 2 3 4 \n",
      "1 2 3 4 5 \n"
     ]
    }
   ],
   "source": [
    "rows = int(input('Enter no of rows:'))\n",
    "\n",
    "for i in range(1, rows+1):\n",
    "    for j in range(1, i+1):\n",
    "        print(j, end=\" \")\n",
    "    print()\n"
   ]
  },
  {
   "cell_type": "code",
   "execution_count": 5,
   "id": "79dbdcaa",
   "metadata": {},
   "outputs": [
    {
     "name": "stdout",
     "output_type": "stream",
     "text": [
      "Enter no of rows:5\n",
      "1\n",
      "121\n",
      "12321\n",
      "1234321\n",
      "123454321\n"
     ]
    }
   ],
   "source": [
    "rows = int(input('Enter no of rows:'))\n",
    "\n",
    "for i in range(1, rows+1):\n",
    "    for j in range(1, i+1):\n",
    "        print(j, end='')\n",
    "    for k in range(i-1, 0, -1):\n",
    "        print(k, end=\"\")\n",
    "    print()"
   ]
  },
  {
   "cell_type": "markdown",
   "id": "470a43fc",
   "metadata": {},
   "source": [
    "### Prime numbers\n"
   ]
  },
  {
   "cell_type": "code",
   "execution_count": 19,
   "id": "23bdbe41",
   "metadata": {},
   "outputs": [
    {
     "name": "stdout",
     "output_type": "stream",
     "text": [
      "2\n",
      "3\n",
      "5\n",
      "7\n",
      "11\n",
      "13\n",
      "17\n",
      "19\n",
      "23\n",
      "29\n",
      "31\n",
      "37\n",
      "41\n",
      "43\n",
      "47\n",
      "53\n",
      "59\n",
      "61\n",
      "67\n",
      "71\n",
      "73\n",
      "79\n",
      "83\n",
      "89\n",
      "97\n",
      "Total prime numbers between 1 to 100 is : 25\n"
     ]
    }
   ],
   "source": [
    "# prime numbers between 1 to 100\n",
    "\n",
    "count = 0\n",
    "for i in range(2, 101):\n",
    "    for j in range(2, i):\n",
    "        if i%j == 0:\n",
    "            break\n",
    "    else:\n",
    "        print(i)\n",
    "        count = count + 1\n",
    "print(\"Total prime numbers between 1 to 100 is :\", count)\n",
    "        \n",
    "    "
   ]
  },
  {
   "cell_type": "markdown",
   "id": "cf9c23c4",
   "metadata": {},
   "source": [
    "### Print prime numbers for a given range\n"
   ]
  },
  {
   "cell_type": "code",
   "execution_count": 26,
   "id": "f34329f7",
   "metadata": {},
   "outputs": [
    {
     "name": "stdout",
     "output_type": "stream",
     "text": [
      "Enter lower number:1\n",
      "Enter upper number:100\n",
      "2\n",
      "3\n",
      "5\n",
      "7\n",
      "11\n",
      "13\n",
      "17\n",
      "19\n",
      "23\n",
      "29\n",
      "31\n",
      "37\n",
      "41\n",
      "43\n",
      "47\n",
      "53\n",
      "59\n",
      "61\n",
      "67\n",
      "71\n",
      "73\n",
      "79\n",
      "83\n",
      "89\n",
      "97\n",
      "Total prime numbers between the range : 25\n"
     ]
    }
   ],
   "source": [
    "# print a prime numbers form lower range to upper range\n",
    "\n",
    "low_no = int(input('Enter lower number:'))\n",
    "up_no = int(input('Enter upper number:'))\n",
    "\n",
    "count = 0\n",
    "for i in range(low_no, up_no+1):\n",
    "    for j in range(2, i):\n",
    "        if i%j == 0:\n",
    "            break\n",
    "    else:\n",
    "        if i > 1:\n",
    "            print(i)\n",
    "            count = count + 1\n",
    "print(\"Total prime numbers between the range :\", count)\n",
    "        "
   ]
  },
  {
   "cell_type": "markdown",
   "id": "bdfae77c",
   "metadata": {},
   "source": [
    "## Loop Control Statement\n",
    "\n",
    "    - Break\n",
    "    - Continue\n",
    "    - Pass"
   ]
  },
  {
   "cell_type": "code",
   "execution_count": 27,
   "id": "d0859c55",
   "metadata": {},
   "outputs": [
    {
     "name": "stdout",
     "output_type": "stream",
     "text": [
      "1\n",
      "2\n",
      "3\n",
      "4\n"
     ]
    }
   ],
   "source": [
    "# Break statement will break the execution of its forwarding statements, if the conditions meets \n",
    "\n",
    "for i in range(1, 10):\n",
    "    if i == 5:\n",
    "        break             # break statement will stop execute the next preceeding statements, once the condition meets.\n",
    "    print(i)"
   ]
  },
  {
   "cell_type": "code",
   "execution_count": 28,
   "id": "b8f3c91f",
   "metadata": {},
   "outputs": [
    {
     "name": "stdout",
     "output_type": "stream",
     "text": [
      "1\n",
      "2\n",
      "3\n",
      "4\n",
      "6\n",
      "7\n",
      "8\n",
      "9\n"
     ]
    }
   ],
   "source": [
    "#  Continue\n",
    "\n",
    "for i in range(1, 10):\n",
    "    if i == 5:\n",
    "        continue             # continue statement will not stop the forwarding steps, if the condtions meets, except that it will print all.\n",
    "    print(i)"
   ]
  },
  {
   "cell_type": "code",
   "execution_count": 29,
   "id": "a3e975e5",
   "metadata": {},
   "outputs": [],
   "source": [
    "# Pass--> There is no real applications on Pass.but it will help us to get rid from error.\n",
    "\n",
    "for i in range(1, 10):       # for time being, I want this code but don't know what logic I need to apply. If we execute it will through an error.\n",
    "    pass                     # Just like a 'None' Boolean operator."
   ]
  },
  {
   "cell_type": "code",
   "execution_count": null,
   "id": "ccc36312",
   "metadata": {},
   "outputs": [],
   "source": []
  },
  {
   "cell_type": "code",
   "execution_count": null,
   "id": "033011b3",
   "metadata": {},
   "outputs": [],
   "source": []
  }
 ],
 "metadata": {
  "kernelspec": {
   "display_name": "Python 3 (ipykernel)",
   "language": "python",
   "name": "python3"
  },
  "language_info": {
   "codemirror_mode": {
    "name": "ipython",
    "version": 3
   },
   "file_extension": ".py",
   "mimetype": "text/x-python",
   "name": "python",
   "nbconvert_exporter": "python",
   "pygments_lexer": "ipython3",
   "version": "3.10.9"
  }
 },
 "nbformat": 4,
 "nbformat_minor": 5
}
